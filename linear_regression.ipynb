{
  "nbformat": 4,
  "nbformat_minor": 0,
  "metadata": {
    "colab": {
      "provenance": [],
      "authorship_tag": "ABX9TyMLFrepTx8uc38HZiG8zPDh",
      "include_colab_link": true
    },
    "kernelspec": {
      "name": "python3",
      "display_name": "Python 3"
    },
    "language_info": {
      "name": "python"
    }
  },
  "cells": [
    {
      "cell_type": "markdown",
      "metadata": {
        "id": "view-in-github",
        "colab_type": "text"
      },
      "source": [
        "<a href=\"https://colab.research.google.com/github/Virtual32PRO/machine_learning/blob/main/linear_regression.ipynb\" target=\"_parent\"><img src=\"https://colab.research.google.com/assets/colab-badge.svg\" alt=\"Open In Colab\"/></a>"
      ]
    },
    {
      "cell_type": "markdown",
      "source": [
        "### Lab2: Regresja liniowa"
      ],
      "metadata": {
        "id": "JdnXocUmMiDL"
      }
    },
    {
      "cell_type": "markdown",
      "source": [
        "### Spis treści:\n",
        "1. [Import bibliotek i wizualizacja danych ](#0)\n",
        "2. [Regresja liniowa jednej zmiennej](#1)\n",
        "    - 2.1. [Implementacja funkcji liniowej, kalkulatora kosztów, obranie parametrów sterujących](#1-1)\n",
        "    - 2.2. [Implementacja algorytmu gradientu prostego](#1-2)\n",
        "    - 2.3. [Policzenie optymalnych parametrów dla regresji liniowej oraz współczynnika kosztu dla tych parametrów](#1-3)\n",
        "    - 2.4. [Wizualizacja zoptymalizowanych parametrów regresji liniowej](#1-4)\n",
        "3. [Regresja liniowa wielu zmiennych](#2)\n",
        "    - 3.1. [Dostosowanie parametrów do operacji macierzowych](#2-1)\n",
        "    - 3.2. [Dostosowanie implementacji funkcji liniowej, kalkulatora kosztów, algorytmu gradientu prostego do postaci wielowymiarowej regresji liniowej](#2-2)\n",
        "    - 3.3. [Policzenie optymalnych parametrów dla regresji liniowej oraz współczynnika kosztu dla tych parametrów](#2-3)\n",
        "    - 3.4. [Wizualizacja zoptymalizowanych parametrów regresji liniowej](#2-4)\n",
        "4. [Optymalizacja modelu regresji liniowej wielu zmiennych](#3)\n",
        "    - 4.1. [Pobranie danych z pliku housing.txt](#3-1)\n",
        "    - 4.2. [Standaryzacja zmiennych numerycznych](#3-2)\n",
        "    - 4.3. [Predykcja kosztu mieszkania 4 pokojowego o powierzchni 1300 $ m^2 $](#3-3)\n",
        "5. [Optymalizacja modelu regresji liniowej wielu zmiennych](#4)\n",
        "    - 5.1. [Pobranie danych z pliku measurements.csv](#4-1)\n",
        "    - 5.2. [Standaryzacja zmiennych i utworzenie wektora X dla regresji wielomianowej oraz aktualizacja parametrów sterujących](#4-2)\n",
        "    - 5.3. [ Policzenie optymalnych parametrów dla regresji wielomianowej](#4-3)\n",
        "    - 5.4. [Wizualizacja zoptymalizowanych parametrów regresji wielomianowej](#4-4)\n",
        "   "
      ],
      "metadata": {
        "id": "VhUcuejzLHsM"
      }
    },
    {
      "cell_type": "markdown",
      "source": [
        "###<a name='0'></a>1. Import bibliotek i wizualizacja danych\n"
      ],
      "metadata": {
        "id": "CQLXKs6cLxvV"
      }
    },
    {
      "cell_type": "code",
      "execution_count": null,
      "metadata": {
        "id": "sIVqYbftq5g-"
      },
      "outputs": [],
      "source": [
        "import csv\n",
        "import math\n",
        "import numpy as np\n",
        "from matplotlib import pyplot as plt"
      ]
    },
    {
      "cell_type": "code",
      "source": [
        "with open('./measurements.csv', 'r') as f:\n",
        "    csvreader = csv.reader(f, delimiter=',')\n",
        "    data = [row for row in csvreader]\n",
        "    data = np.array(data, dtype=np.float32)"
      ],
      "metadata": {
        "id": "w85fnUDqrRrZ"
      },
      "execution_count": null,
      "outputs": []
    },
    {
      "cell_type": "code",
      "source": [
        "x=data[:, 0]\n",
        "y=data[:, 1]\n",
        "plt.scatter(x,y)\n",
        "plt.show()"
      ],
      "metadata": {
        "colab": {
          "base_uri": "https://localhost:8080/",
          "height": 430
        },
        "id": "yNGU9TkbrYM3",
        "outputId": "dc9dc2ce-4ace-4bb4-e785-e53de86d3a50"
      },
      "execution_count": null,
      "outputs": [
        {
          "output_type": "display_data",
          "data": {
            "text/plain": [
              "<Figure size 640x480 with 1 Axes>"
            ],
            "image/png": "[encoded data removed]"
          },
          "metadata": {}
        }
      ]
    },
    {
      "cell_type": "markdown",
      "source": [
        "### <a name='1'></a>2. Regresja liniowa jednej zmiennej"
      ],
      "metadata": {
        "id": "CUA_EFiJMtwh"
      }
    },
    {
      "cell_type": "markdown",
      "source": [
        "### <a name='1-1'></a>2.1 Implementacja funkcji liniowej, kalkulatora kosztów, obranie parametrów sterujących"
      ],
      "metadata": {
        "id": "mxkO08TyNSmD"
      }
    },
    {
      "cell_type": "code",
      "source": [
        "def h_fun(x, theta_0, theta_1):\n",
        "    '''\n",
        "    :param x: ndarray o wymiarze ilości przykładów\n",
        "    :param theta_0: parametr wolny modelu regresji liniowej jednej zmiennej\n",
        "    :param theta_1: parametr przy xi modelu regresji liniowej jednej zmiennej\n",
        "    :return: ndarray o wymiarze takim samym jak x, który zawiera wartości f. regresji liniowej dla podanych wag\n",
        "    '''\n",
        "    return np.array([theta_0 + theta_1*xi for xi in x])"
      ],
      "metadata": {
        "id": "vP2QyUhTuq3f"
      },
      "execution_count": null,
      "outputs": []
    },
    {
      "cell_type": "code",
      "source": [
        "def calculate_cost(x, y, theta_0, theta_1):\n",
        "    '''\n",
        "    :param x: ndarray o wymiarze ilości przykładów\n",
        "    :param y: ndarray z wartościami referencyjnymi o wymiarze takim jak x\n",
        "    :param theta_0: parametr wolny modelu regresji liniowej jednej zmiennej\n",
        "    :param theta_1: parametr przy xi modelu regresji liniowej jednej zmiennej\n",
        "    :return: wartość funkcji kosztu dla podanych paramterów modelu\n",
        "    '''\n",
        "    m=x.shape[0]\n",
        "    fun = h_fun(x, theta_0, theta_1)\n",
        "    return np.sum((fun-y)**2)/(2*m)\n",
        "\n"
      ],
      "metadata": {
        "id": "eXlAdiVFuzKm"
      },
      "execution_count": null,
      "outputs": []
    },
    {
      "cell_type": "code",
      "source": [
        "eps = 1e-5  # akceptowalna różnica dla kolejnych wartości funkcji kosztu\n",
        "alpha = 0.001  # learning rate\n",
        "theta_0 = 0  # - wartości początkowe parametrów modelu\n",
        "theta_1 = 0"
      ],
      "metadata": {
        "id": "CBQaiXUNu2kG"
      },
      "execution_count": null,
      "outputs": []
    },
    {
      "cell_type": "markdown",
      "source": [
        "### <a name='1-2'></a>2.2 Implementacja algorytmu gradientu prostego:\n"
      ],
      "metadata": {
        "id": "NZ3uArA9u-Fc"
      }
    },
    {
      "cell_type": "markdown",
      "source": [
        "Wykonuj dopóki różnica poprzedniej wartość f. kosztu i obecnej jest większa niż eps\n",
        "- oblicz wartość pochodnej cząstkowej f. kosztu dla parametru theta_0\n",
        "- oblicz wartość pochodnej cząstkowej f. kosztu dla parametru theta_1\n",
        "- zaktualizuj wagę modelu regresji liniowej theta_0 (theta_0 = theta_0 - alpha * gradient_theta_0)\n",
        "- zaktualizuj wagę modelu regresji liniowej theta_1 (theta_1 = theta_1 - alpha * gradient_theta_1)\n",
        "- oblicz wartość f. kosztu dla zaktualizowanych wag."
      ],
      "metadata": {
        "id": "27erLhR-xvKf"
      }
    },
    {
      "cell_type": "code",
      "source": [
        "def descent_gradient(alpha,x,y,theta_0, theta_1,eps):\n",
        "  condition = True\n",
        "  th_0, th_1 = theta_0, theta_1\n",
        "  m = len(x)\n",
        "  while condition:\n",
        "    first_cost=calculate_cost(x, y, th_0, th_1)\n",
        "    gradient_th0= sum(1/m*(h_fun(x,th_0,th_1)-y))\n",
        "    gradient_th1=sum(1/m*(h_fun(x,th_0,th_1)-y)*x)\n",
        "    th_0=th_0 -alpha*gradient_th0\n",
        "    th_1=th_1 -alpha*gradient_th1\n",
        "    new_cost=calculate_cost(x, y, th_0, th_1)\n",
        "    condition = (first_cost - new_cost) > eps\n",
        "  return th_0, th_1\n",
        "\n"
      ],
      "metadata": {
        "id": "tvJkjFyFvFwh"
      },
      "execution_count": null,
      "outputs": []
    },
    {
      "cell_type": "markdown",
      "source": [
        "### <a name='1-3'></a>2.3 Policzenie optymalnych parametrów dla regresji liniowej oraz współczynnika kosztu dla tych parametrów"
      ],
      "metadata": {
        "id": "4D-kcOvmRQuI"
      }
    },
    {
      "cell_type": "code",
      "source": [
        "th_0, th_1 = descent_gradient(alpha,x,y,theta_0, theta_1,eps)\n",
        "print(th_0)\n",
        "print(th_1)\n",
        "\n"
      ],
      "metadata": {
        "id": "QH1FlMpvLwVM",
        "colab": {
          "base_uri": "https://localhost:8080/"
        },
        "outputId": "36a54938-798a-4627-9ec4-c25eedf08561"
      },
      "execution_count": null,
      "outputs": [
        {
          "output_type": "stream",
          "name": "stdout",
          "text": [
            "0.0064876258457920565\n",
            "0.31538415538147335\n"
          ]
        }
      ]
    },
    {
      "cell_type": "code",
      "source": [
        "print(calculate_cost(x, y, th_0,th_1))"
      ],
      "metadata": {
        "colab": {
          "base_uri": "https://localhost:8080/"
        },
        "id": "p5kwtvojRj7I",
        "outputId": "b7773263-8a11-4381-d13a-9a97899a5371"
      },
      "execution_count": null,
      "outputs": [
        {
          "output_type": "stream",
          "name": "stdout",
          "text": [
            "0.6391738572130962\n"
          ]
        }
      ]
    },
    {
      "cell_type": "markdown",
      "source": [
        "### <a name='1-4'></a>2.4 Wizualizacja zoptymalizowanych parametrów regresji liniowej:"
      ],
      "metadata": {
        "id": "X0UtOQ9FK_Al"
      }
    },
    {
      "cell_type": "code",
      "source": [
        "x=data[:, 0]\n",
        "y=data[:, 1]\n",
        "\n",
        "plt.scatter(x,y, label='Dane punktowe')\n",
        "plt.plot(x,h_fun(x,th_0,th_1), color = 'red', label='Dopasowanie modelu')\n",
        "plt.xlabel('X')\n",
        "plt.ylabel('Y')\n",
        "plt.legend()\n",
        "plt.show()"
      ],
      "metadata": {
        "id": "QmTextQNT-Si",
        "colab": {
          "base_uri": "https://localhost:8080/",
          "height": 449
        },
        "outputId": "7cec86c9-4a2b-4160-8a6d-8b5732c67055"
      },
      "execution_count": null,
      "outputs": [
        {
          "output_type": "display_data",
          "data": {
            "text/plain": [
              "<Figure size 640x480 with 1 Axes>"
            ],
            "image/png": "[encoded data removed]"
          },
          "metadata": {}
        }
      ]
    },
    {
      "cell_type": "markdown",
      "source": [
        "### <a name='2'></a>3. Regresja liniowa wielu zmiennych\n"
      ],
      "metadata": {
        "id": "uALgST3TSEDf"
      }
    },
    {
      "cell_type": "markdown",
      "source": [
        "### <a name='2-1'></a>3.1 Dostosowanie parametrów do operacji macierzowych"
      ],
      "metadata": {
        "id": "G8A7bner9xxP"
      }
    },
    {
      "cell_type": "code",
      "source": [
        "X = np.vstack([np.ones(x.shape), x])\n",
        "y.shape = [1, -1]\n",
        "theta = np.array([[0], [0]])"
      ],
      "metadata": {
        "id": "DP9rVtcRSTZP"
      },
      "execution_count": null,
      "outputs": []
    },
    {
      "cell_type": "code",
      "source": [
        "print(y.shape)\n",
        "print(X.shape)"
      ],
      "metadata": {
        "colab": {
          "base_uri": "https://localhost:8080/"
        },
        "id": "hRrvaTVJTvjE",
        "outputId": "7928525b-0a04-453f-991f-c07d5d2e6640"
      },
      "execution_count": null,
      "outputs": [
        {
          "output_type": "stream",
          "name": "stdout",
          "text": [
            "(1, 100)\n",
            "(2, 100)\n"
          ]
        }
      ]
    },
    {
      "cell_type": "code",
      "source": [
        "print(theta.shape)\n",
        "print(X.shape)"
      ],
      "metadata": {
        "colab": {
          "base_uri": "https://localhost:8080/"
        },
        "id": "4m8PEHobY4Tu",
        "outputId": "b321b88d-058b-4174-f093-b391106435dc"
      },
      "execution_count": null,
      "outputs": [
        {
          "output_type": "stream",
          "name": "stdout",
          "text": [
            "(2, 1)\n",
            "(2, 100)\n"
          ]
        }
      ]
    },
    {
      "cell_type": "markdown",
      "source": [
        "### <a name='2-2'></a>3.2 Dostosowanie implementacji funkcji liniowej, kalkulatora kosztów, algorytmu gradientu prostego do postaci wielowymiarowej regresji liniowej"
      ],
      "metadata": {
        "id": "485-2IB4-HMI"
      }
    },
    {
      "cell_type": "code",
      "source": [
        "def h_fun(X, theta):\n",
        "    '''\n",
        "    :param X: ndarray postaci (n+1, m).\n",
        "    :param theta: macierz parametrów do optymalizacji postaci (n+1, 1)\n",
        "    :return:\n",
        "    '''\n",
        "    return theta.T @ X # przykładowa realizacja, @ - mnożenie macierzowe\n",
        "\n",
        "def calculate_cost(X, y, theta):\n",
        "    '''\n",
        "    :param X: ndarray postaci (n+1, m).\n",
        "    :param y: ndarray z wartościami referencyjnymi o wymiarze (1, m)\n",
        "    :param theta: macierz parametrów do optymalizacji postaci (n+1, 1)\n",
        "    :return: wartość f. kosztu\n",
        "    '''\n",
        "    m=X.shape[1]\n",
        "    fun = h_fun(X, theta)\n",
        "    return np.sum((fun-y)**2)/(2*m)"
      ],
      "metadata": {
        "id": "y1yr9rjTU7FF"
      },
      "execution_count": null,
      "outputs": []
    },
    {
      "cell_type": "code",
      "source": [
        "def descent_gradient(alpha,x,y,theta,eps):\n",
        "  condition = True\n",
        "  m =x.shape[1]\n",
        "  while condition:\n",
        "    first_cost=calculate_cost(x, y, theta)\n",
        "    h_y_diff = (h_fun(X, theta) - y)\n",
        "    gradient = h_y_diff @ X.T\n",
        "    theta = theta - alpha * gradient.T / m\n",
        "    new_cost=calculate_cost(x, y, theta)\n",
        "    condition = (first_cost - new_cost) > eps\n",
        "  return theta"
      ],
      "metadata": {
        "id": "HE5Q4pxDWL47"
      },
      "execution_count": null,
      "outputs": []
    },
    {
      "cell_type": "markdown",
      "source": [
        "### <a name='2-3'></a>3.3 Policzenie optymalnych parametrów dla regresji liniowej oraz współczynnika kosztu dla tych parametrów"
      ],
      "metadata": {
        "id": "4cD8qSMq-rSJ"
      }
    },
    {
      "cell_type": "code",
      "source": [
        "theta=descent_gradient(alpha,X,y,theta,eps)\n",
        "print(theta)"
      ],
      "metadata": {
        "colab": {
          "base_uri": "https://localhost:8080/"
        },
        "id": "M_flbEkkdDKc",
        "outputId": "ee0273b1-5c4b-498c-a307-d4232c94387d"
      },
      "execution_count": null,
      "outputs": [
        {
          "output_type": "stream",
          "name": "stdout",
          "text": [
            "[[0.00648763]\n",
            " [0.31538416]]\n"
          ]
        }
      ]
    },
    {
      "cell_type": "code",
      "source": [
        "calculate_cost(X, y, theta)"
      ],
      "metadata": {
        "colab": {
          "base_uri": "https://localhost:8080/"
        },
        "id": "GYPxO5NAb744",
        "outputId": "92529000-bcd3-476c-ec51-46a788e43261"
      },
      "execution_count": null,
      "outputs": [
        {
          "output_type": "execute_result",
          "data": {
            "text/plain": [
              "0.6391738572130962"
            ]
          },
          "metadata": {},
          "execution_count": 68
        }
      ]
    },
    {
      "cell_type": "markdown",
      "source": [
        "### <a name='2-4'></a>3.4 Wizualizacja zoptymalizowanych parametrów regresji liniowej:"
      ],
      "metadata": {
        "id": "MhkWZX8f_gqK"
      }
    },
    {
      "cell_type": "code",
      "source": [
        "plt.plot(X[1, :],h_fun(X,theta).flatten(), color = 'red', label='Dopasowanie modelu')\n",
        "plt.scatter(x,y, label='Dane punktowe')\n",
        "plt.xlabel('X')\n",
        "plt.ylabel('Y')\n",
        "plt.legend()\n",
        "plt.show()\n"
      ],
      "metadata": {
        "colab": {
          "base_uri": "https://localhost:8080/",
          "height": 449
        },
        "id": "2l_lt6nHdsbD",
        "outputId": "e6b5776c-c978-462f-e0d2-9890b483bc24"
      },
      "execution_count": null,
      "outputs": [
        {
          "output_type": "display_data",
          "data": {
            "text/plain": [
              "<Figure size 640x480 with 1 Axes>"
            ],
            "image/png": "[encoded data removed]"
          },
          "metadata": {}
        }
      ]
    },
    {
      "cell_type": "markdown",
      "source": [
        "### <a name='3'></a>4.  Optymalizacja modelu regresji liniowej wielu zmiennych"
      ],
      "metadata": {
        "id": "Nxl7we19G9rZ"
      }
    },
    {
      "cell_type": "markdown",
      "source": [
        "### <a name='3-1'></a>4.1 Pobranie danych z pliku housing.txt"
      ],
      "metadata": {
        "id": "4lARuMWVfvZP"
      }
    },
    {
      "cell_type": "code",
      "source": [
        "with open('./housing.txt', 'r') as f:\n",
        "    csvreader = csv.reader(f, delimiter=',')\n",
        "    data2 = [row for row in csvreader]\n",
        "    data2 = np.array(data2, dtype=np.float32)\n",
        "    y = data2[:, 2]\n",
        "    y.shape = [1, y.shape[0]]\n",
        "    X = data2[:, 0:2]\n",
        "    X = np.concatenate([np.ones((X.shape[0], 1)), X], axis=1).T\n"
      ],
      "metadata": {
        "id": "81-CsPihHFXv"
      },
      "execution_count": null,
      "outputs": []
    },
    {
      "cell_type": "markdown",
      "source": [
        "### <a name='3-2'></a>4.2 Standaryzacja zmiennych numerycznych"
      ],
      "metadata": {
        "id": "0qKtmmhLU2C6"
      }
    },
    {
      "cell_type": "code",
      "source": [
        "y_scale = y.max()\n",
        "y = y / y_scale\n",
        "\n",
        "X_scale = X.max(axis=1)\n",
        "X_scale.shape = [-1, 1]\n",
        "X = X / X_scale\n",
        "theta = np.array([[0], [0], [0]])"
      ],
      "metadata": {
        "id": "8odrIHaeHSm-"
      },
      "execution_count": null,
      "outputs": []
    },
    {
      "cell_type": "markdown",
      "source": [
        "### <a name='3-3'></a>4.3 Predykcja kosztu mieszkania 4 pokojowego o powierzchni 1300 $ m^2 $"
      ],
      "metadata": {
        "id": "UlQrl_i2VHDA"
      }
    },
    {
      "cell_type": "code",
      "source": [
        "example = np.array([[1], [1300], [4]])\n",
        "theta=descent_gradient(alpha,X,y,theta,eps)\n",
        "\n",
        "h_example = theta.T @ (example/X_scale) * y_scale\n",
        "print(f'koszt nieruchomosi o pow. {example[1][0]} z l. pok. {example[2][0]} oszacowany na {h_example[0][0]}')"
      ],
      "metadata": {
        "id": "c_xlIXRoHY5W",
        "outputId": "3de2325b-0987-4f87-c447-6de096c77595",
        "colab": {
          "base_uri": "https://localhost:8080/"
        }
      },
      "execution_count": null,
      "outputs": [
        {
          "output_type": "stream",
          "name": "stdout",
          "text": [
            "koszt nieruchomosi o pow. 1300 z l. pok. 4 oszacowany na 296090.6397107442\n"
          ]
        }
      ]
    },
    {
      "cell_type": "markdown",
      "source": [
        "### <a name='4'></a>5. Regresja wielomianowa"
      ],
      "metadata": {
        "id": "OIqjl8RKWHz6"
      }
    },
    {
      "cell_type": "markdown",
      "source": [
        "### <a name='4-1'></a>5.1 Pobranie danych z pliku measurements.csv"
      ],
      "metadata": {
        "id": "KM9P7AOUgX7N"
      }
    },
    {
      "cell_type": "code",
      "source": [
        "with open('./measurements.csv', 'r') as f:\n",
        "    csvreader = csv.reader(f, delimiter=',')\n",
        "    data = [row for row in csvreader]\n",
        "    data = np.array(data, dtype=np.float32)\n",
        "x=data[:, 0]\n",
        "y=data[:, 1]\n",
        "\n"
      ],
      "metadata": {
        "id": "SnKmbokhWxNg"
      },
      "execution_count": 232,
      "outputs": []
    },
    {
      "cell_type": "markdown",
      "source": [
        "### <a name='4-2'></a>5.2 Standaryzacja zmiennych i utworzenie wektora X dla regresji wielomianowej oraz aktualizacja parametrów sterujących"
      ],
      "metadata": {
        "id": "uIMveSh6ePVb"
      }
    },
    {
      "cell_type": "code",
      "source": [
        "X = np.vstack([np.ones(x.shape), x, x**2, x**3])"
      ],
      "metadata": {
        "id": "zL43xtWTV5KM"
      },
      "execution_count": 233,
      "outputs": []
    },
    {
      "cell_type": "code",
      "source": [
        "X_scale = X.max(axis=1)\n",
        "X_scale.shape = [-1, 1]\n",
        "X = X / X_scale\n",
        "\n",
        "y.shape = [1, -1]\n",
        "y_scale = y.max()\n",
        "y = y / y_scale"
      ],
      "metadata": {
        "id": "dJxo0_vIV7f4"
      },
      "execution_count": 234,
      "outputs": []
    },
    {
      "cell_type": "code",
      "source": [
        "eps = 1e-10\n",
        "alpha = 1e-3\n",
        "theta = np.array([[0], [0], [0], [0]])"
      ],
      "metadata": {
        "id": "Gj8kegrQV_gS"
      },
      "execution_count": 235,
      "outputs": []
    },
    {
      "cell_type": "markdown",
      "source": [
        "### <a name='4-3'></a>5.3 Policzenie optymalnych parametrów dla regresji wielomianowej"
      ],
      "metadata": {
        "id": "ePo5IpHuhGIl"
      }
    },
    {
      "cell_type": "code",
      "source": [
        "theta=descent_gradient(alpha,X,y,theta,eps)\n",
        "print(theta)"
      ],
      "metadata": {
        "colab": {
          "base_uri": "https://localhost:8080/"
        },
        "id": "U29VhR2LWBko",
        "outputId": "aef6c061-bf97-4957-cb62-bfd46fbe064c"
      },
      "execution_count": 236,
      "outputs": [
        {
          "output_type": "stream",
          "name": "stdout",
          "text": [
            "[[ 0.02528658]\n",
            " [ 0.77921902]\n",
            " [-0.49718083]\n",
            " [ 0.65075679]]\n"
          ]
        }
      ]
    },
    {
      "cell_type": "markdown",
      "source": [
        "### <a name='4-4'></a> 5.4 Wizualizacja zoptymalizowanych parametrów regresji wielomianowej:"
      ],
      "metadata": {
        "id": "6G7u8u51hUe9"
      }
    },
    {
      "cell_type": "code",
      "source": [
        "h_fun_z = theta.T @ X * y_scale"
      ],
      "metadata": {
        "id": "AvM7FE6zdiHF"
      },
      "execution_count": 237,
      "outputs": []
    },
    {
      "cell_type": "code",
      "source": [
        "\n",
        "plt.plot(X[1]*X_scale[1],h_fun_z.flatten(), color = 'red', label='Dopasowanie modelu')\n",
        "plt.scatter(x,y*y_scale, label='Dane punktowe' )\n",
        "plt.legend()\n",
        "plt.xlabel('X')\n",
        "plt.ylabel('Y')\n",
        "plt.show()\n"
      ],
      "metadata": {
        "colab": {
          "base_uri": "https://localhost:8080/",
          "height": 449
        },
        "id": "VqoQ95tXXp50",
        "outputId": "01b71860-31d3-4d2e-a645-28ac2f587b51"
      },
      "execution_count": 244,
      "outputs": [
        {
          "output_type": "display_data",
          "data": {
            "text/plain": [
              "<Figure size 640x480 with 1 Axes>"
            ],
            "image/png": "[encoded data removed]"
          },
          "metadata": {}
        }
      ]
    }
  ]
}